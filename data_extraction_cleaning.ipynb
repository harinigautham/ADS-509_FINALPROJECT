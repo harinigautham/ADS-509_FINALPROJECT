{
 "cells": [
  {
   "cell_type": "markdown",
   "metadata": {},
   "source": [
    "## Airline Review Extraction for Text Classification and Topic Modeling"
   ]
  },
  {
   "cell_type": "markdown",
   "metadata": {},
   "source": [
    "*Install relevant packages and libraries*"
   ]
  },
  {
   "cell_type": "code",
   "execution_count": 31,
   "metadata": {},
   "outputs": [],
   "source": [
    "# Install playwright library\n",
    "\n",
    "# !pip3 install playwright   # for package\n",
    "\n",
    "# !pip3 install asyncio      # for async calls\n",
    "\n",
    "# !playwright install        # for browser binaries"
   ]
  },
  {
   "cell_type": "markdown",
   "metadata": {},
   "source": [
    "*Import relevant packages and libraries*"
   ]
  },
  {
   "cell_type": "code",
   "execution_count": 32,
   "metadata": {},
   "outputs": [
    {
     "name": "stderr",
     "output_type": "stream",
     "text": [
      "[nltk_data] Downloading package wordnet to /Users/dunya/nltk_data...\n",
      "[nltk_data]   Package wordnet is already up-to-date!\n"
     ]
    }
   ],
   "source": [
    "# Import relevant libaries\n",
    "\n",
    "import os \n",
    "import datetime \n",
    "import re\n",
    "\n",
    "import requests\n",
    "import time\n",
    "from bs4 import BeautifulSoup\n",
    "from collections import defaultdict, Counter \n",
    "import random\n",
    "\n",
    "# Additional libraries\n",
    "\n",
    "import shutil\n",
    "import pprint\n",
    "import numpy as np\n",
    "import pandas as pd\n",
    "import json\n",
    "from json import loads, dumps\n",
    "import string\n",
    "import asyncio\n",
    "from playwright.async_api import async_playwright\n",
    "from playwright.sync_api import sync_playwright\n",
    "from pprint import pprint \n",
    "import string  \n",
    "\n",
    "\n",
    "import seaborn as sns\n",
    "import plotly.express as px\n",
    "\n",
    "from collections import Counter, defaultdict\n",
    "from string import punctuation\n",
    "from nltk.corpus import stopwords\n",
    "from nltk.metrics import ConfusionMatrix\n",
    "\n",
    "import nltk\n",
    "nltk.download('wordnet')\n",
    "\n",
    "from nltk.stem import WordNetLemmatizer\n",
    "from random import randint\n",
    "\n",
    "import warnings\n",
    "warnings.filterwarnings(\"ignore\")\n",
    "\n"
   ]
  },
  {
   "cell_type": "markdown",
   "metadata": {},
   "source": [
    "### Initial TripAdvisor Scraper"
   ]
  },
  {
   "cell_type": "markdown",
   "metadata": {},
   "source": [
    "The goal of this project is to perform text classification and topic modeling on extracted airline reviews. In order to acquire this data, the Playwright library is utilized to scrape reviews from TripAdvisor, a popular travel website. Upon initial examination of the TripAdvisor website, it became evident that many airlines were either (1) too small to be considered or (2) not longer operating. The initial web scraper was written to extract all airlines reviewed on TripAdvisor, along with the total reviews written for each one. The methods for this are below:"
   ]
  },
  {
   "cell_type": "markdown",
   "metadata": {},
   "source": [
    "*TripAdvisor Scrape Methods*"
   ]
  },
  {
   "cell_type": "code",
   "execution_count": 33,
   "metadata": {},
   "outputs": [],
   "source": [
    "# Helper to concat list of lists\n",
    "\n",
    "def flatten_sum(matrix):\n",
    "    return sum(matrix, [])\n",
    "\n",
    "# Helper to remove punctuation and clean reviews string\n",
    "\n",
    "def conv_int(text):\n",
    "    arr = text.split(' ')\n",
    "    strg = arr[0].translate(str.maketrans('', '', string.punctuation))\n",
    "    return strg\n",
    "\n",
    "# Function to scrape items on TripAdvisor page\n",
    "\n",
    "async def scrape_page(page):\n",
    "    info = list()\n",
    "    airline_href = page.locator('//div[@class=\"airlineSummary\"]/a[1]')  # get HTML elements\n",
    "    airline_name = page.locator('//div[@class=\"airlineSummary\"]')\n",
    "    airline_review_count = page.locator('//div[@class=\"airlineSummary\"]/a[@class=\"detailsLink\"]')\n",
    "    \n",
    "    hrefs = await airline_href.all()                        # get <a> tags\n",
    "    names = await airline_name.all_inner_texts()            # get airline names\n",
    "    reviews = await airline_review_count.all_inner_texts()  # get airline review counts\n",
    "\n",
    "    idx = 0\n",
    "    for idx in range(len(names)):\n",
    "        name = names[idx].split('\\n')[0]                    # extract airline name\n",
    "        href = await hrefs[idx].get_attribute('href')       # extract href from link\n",
    "        href = f\"https://www.tripadvisor.com{href}\"         # build out complete link\n",
    "        el = {\n",
    "            \"airline_link\": f\"{href}\",\n",
    "            \"airline_name\": f\"{name}\",\n",
    "            \"airline_reviews\": f\"{reviews[idx]}\"\n",
    "        }\n",
    "        info.append(el)                                     # put info into list to return\n",
    "        idx += 1\n",
    "    return info\n",
    "\n",
    "# Function to go to next page\n",
    "\n",
    "async def paginate(page, browser):\n",
    "    try:\n",
    "        next_page = page.locator('//span[@class=\"nav next ui_button primary\"]')\n",
    "        await next_page.click()\n",
    "        return page\n",
    "    except:\n",
    "        await browser.close()                               # \n",
    "\n",
    "# Main execution function using methods defined above\n",
    "\n",
    "async def main():\n",
    "    async with async_playwright() as p:\n",
    "\n",
    "        # Init browser\n",
    "        browser = await p.chromium.launch(headless=False, slow_mo=1500)\n",
    "        page = await browser.new_page()\n",
    "\n",
    "        # Go to trip advisor\n",
    "        await page.goto(\"https://www.tripadvisor.com/Airlines\")\n",
    "\n",
    "        # Scrape page and paginate\n",
    "        airline_details = list()\n",
    "        pg = 0\n",
    "        while pg < 60:\n",
    "            scraped = await scrape_page(page)\n",
    "            airline_details.append(scraped)\n",
    "            pg += 1\n",
    "            await paginate(page, browser)\n",
    "\n",
    "        # Flatten list of lists stored in airline_details\n",
    "        \n",
    "        # print(\"Length before concat: \", len(airline_details)) \n",
    "        airline_deets = flatten_sum(airline_details)\n",
    "        # print(\"Length after concat: \", len(airline_deets))      \n",
    "        return airline_deets"
   ]
  },
  {
   "cell_type": "markdown",
   "metadata": {},
   "source": [
    "The use-case for each method above is as follows:\n",
    "\n",
    "- flatten-sum: This is a helper function that takes in a list of lists and flattens, returning a one-dimensional list\n",
    "\n",
    "- conv_int: This is a helper function that takes the total reviews string from the website, removes punctuation, and converts the value into an integer\n",
    "\n",
    "- scrape_page: This function deals with the main extraction of text from the HTML elements contained on a review page. It identifies where the airline names and review totals are, and stores them along with links that contain the airline reviews\n",
    "\n",
    "- paginate: This function is a scraping helper that tells the parser to move on to the next page of reviews\n",
    "\n",
    "- main: This is the main execution function, employing all of the previous methods to gather relevant information"
   ]
  },
  {
   "cell_type": "markdown",
   "metadata": {},
   "source": [
    "*Initial TripAdvisor Dataframe*"
   ]
  },
  {
   "cell_type": "code",
   "execution_count": 34,
   "metadata": {},
   "outputs": [],
   "source": [
    "# Execute web scraper to get review information\n",
    "\n",
    "information = await main()"
   ]
  },
  {
   "cell_type": "code",
   "execution_count": null,
   "metadata": {},
   "outputs": [],
   "source": [
    "# Extract number of reviews per airline\n",
    " \n",
    "airlines_df = pd.DataFrame(information)\n",
    "airlines_df['review_count'] = airlines_df['airline_reviews'].apply(conv_int)\n",
    "airlines_df['review_count'] = pd.to_numeric(airlines_df['review_count'])\n",
    "\n",
    "# Get top airline reviews\n",
    "\n",
    "airlines_df = airlines_df.sort_values('review_count', ascending=False)"
   ]
  },
  {
   "cell_type": "markdown",
   "metadata": {},
   "source": [
    "The code above converts the extracted information from TripAdvisor to a pandas DataFrame. It applies the conv_int() function previously mentioned to transform the total reviews into integers. Once the review counts are numeric, we are able to sort the values in descending order."
   ]
  },
  {
   "cell_type": "markdown",
   "metadata": {},
   "source": [
    "*Save JSON*"
   ]
  },
  {
   "cell_type": "code",
   "execution_count": null,
   "metadata": {},
   "outputs": [
    {
     "data": {
      "text/html": [
       "<div>\n",
       "<style scoped>\n",
       "    .dataframe tbody tr th:only-of-type {\n",
       "        vertical-align: middle;\n",
       "    }\n",
       "\n",
       "    .dataframe tbody tr th {\n",
       "        vertical-align: top;\n",
       "    }\n",
       "\n",
       "    .dataframe thead th {\n",
       "        text-align: right;\n",
       "    }\n",
       "</style>\n",
       "<table border=\"1\" class=\"dataframe\">\n",
       "  <thead>\n",
       "    <tr style=\"text-align: right;\">\n",
       "      <th></th>\n",
       "      <th>airline_link</th>\n",
       "      <th>airline_name</th>\n",
       "      <th>airline_reviews</th>\n",
       "      <th>review_count</th>\n",
       "    </tr>\n",
       "  </thead>\n",
       "  <tbody>\n",
       "    <tr>\n",
       "      <th>557</th>\n",
       "      <td>https://www.tripadvisor.com/Airline_Review-d87...</td>\n",
       "      <td>Transavia</td>\n",
       "      <td>109,485 reviews</td>\n",
       "      <td>109485.0</td>\n",
       "    </tr>\n",
       "    <tr>\n",
       "      <th>454</th>\n",
       "      <td>https://www.tripadvisor.com/Airline_Review-d87...</td>\n",
       "      <td>Ryanair</td>\n",
       "      <td>87,393 reviews</td>\n",
       "      <td>87393.0</td>\n",
       "    </tr>\n",
       "    <tr>\n",
       "      <th>107</th>\n",
       "      <td>https://www.tripadvisor.com/Airline_Review-d87...</td>\n",
       "      <td>American Airlines</td>\n",
       "      <td>77,625 reviews</td>\n",
       "      <td>77625.0</td>\n",
       "    </tr>\n",
       "    <tr>\n",
       "      <th>225</th>\n",
       "      <td>https://www.tripadvisor.com/Airline_Review-d87...</td>\n",
       "      <td>Emirates</td>\n",
       "      <td>64,134 reviews</td>\n",
       "      <td>64134.0</td>\n",
       "    </tr>\n",
       "    <tr>\n",
       "      <th>209</th>\n",
       "      <td>https://www.tripadvisor.com/Airline_Review-d87...</td>\n",
       "      <td>Delta Air Lines</td>\n",
       "      <td>61,679 reviews</td>\n",
       "      <td>61679.0</td>\n",
       "    </tr>\n",
       "    <tr>\n",
       "      <th>219</th>\n",
       "      <td>https://www.tripadvisor.com/Airline_Review-d87...</td>\n",
       "      <td>easyJet</td>\n",
       "      <td>61,614 reviews</td>\n",
       "      <td>61614.0</td>\n",
       "    </tr>\n",
       "    <tr>\n",
       "      <th>160</th>\n",
       "      <td>https://www.tripadvisor.com/Airline_Review-d87...</td>\n",
       "      <td>British Airways</td>\n",
       "      <td>58,586 reviews</td>\n",
       "      <td>58586.0</td>\n",
       "    </tr>\n",
       "    <tr>\n",
       "      <th>575</th>\n",
       "      <td>https://www.tripadvisor.com/Airline_Review-d87...</td>\n",
       "      <td>United Airlines</td>\n",
       "      <td>54,120 reviews</td>\n",
       "      <td>54120.0</td>\n",
       "    </tr>\n",
       "    <tr>\n",
       "      <th>505</th>\n",
       "      <td>https://www.tripadvisor.com/Airline_Review-d87...</td>\n",
       "      <td>Southwest Airlines</td>\n",
       "      <td>45,339 reviews</td>\n",
       "      <td>45339.0</td>\n",
       "    </tr>\n",
       "    <tr>\n",
       "      <th>350</th>\n",
       "      <td>https://www.tripadvisor.com/Airline_Review-d10...</td>\n",
       "      <td>LATAM Airlines</td>\n",
       "      <td>40,963 reviews</td>\n",
       "      <td>40963.0</td>\n",
       "    </tr>\n",
       "  </tbody>\n",
       "</table>\n",
       "</div>"
      ],
      "text/plain": [
       "                                          airline_link        airline_name  \\\n",
       "557  https://www.tripadvisor.com/Airline_Review-d87...           Transavia   \n",
       "454  https://www.tripadvisor.com/Airline_Review-d87...             Ryanair   \n",
       "107  https://www.tripadvisor.com/Airline_Review-d87...   American Airlines   \n",
       "225  https://www.tripadvisor.com/Airline_Review-d87...            Emirates   \n",
       "209  https://www.tripadvisor.com/Airline_Review-d87...     Delta Air Lines   \n",
       "219  https://www.tripadvisor.com/Airline_Review-d87...             easyJet   \n",
       "160  https://www.tripadvisor.com/Airline_Review-d87...     British Airways   \n",
       "575  https://www.tripadvisor.com/Airline_Review-d87...     United Airlines   \n",
       "505  https://www.tripadvisor.com/Airline_Review-d87...  Southwest Airlines   \n",
       "350  https://www.tripadvisor.com/Airline_Review-d10...      LATAM Airlines   \n",
       "\n",
       "     airline_reviews  review_count  \n",
       "557  109,485 reviews      109485.0  \n",
       "454   87,393 reviews       87393.0  \n",
       "107   77,625 reviews       77625.0  \n",
       "225   64,134 reviews       64134.0  \n",
       "209   61,679 reviews       61679.0  \n",
       "219   61,614 reviews       61614.0  \n",
       "160   58,586 reviews       58586.0  \n",
       "575   54,120 reviews       54120.0  \n",
       "505   45,339 reviews       45339.0  \n",
       "350   40,963 reviews       40963.0  "
      ]
     },
     "metadata": {},
     "output_type": "display_data"
    }
   ],
   "source": [
    "# Save scraped information\n",
    " \n",
    "# Serializing json\n",
    "json_object = json.dumps(information, indent=4)\n",
    " \n",
    "# Writing to json file\n",
    "with open(\"review_counts.json\", \"w\") as outfile:\n",
    "    outfile.write(json_object)\n",
    "\n",
    "display(airlines_df.head(10))"
   ]
  },
  {
   "cell_type": "markdown",
   "metadata": {},
   "source": [
    "The dataframe is saved as a json file. From the table above, we are able to gauge the most highly reviewed airlines. At first, the reason for gathering this information stemmed from the idea of choosing airlines with a lot of reviews for future text classification and topic modeling. Unfortunately, after examining the most reviewed airlines on TripAdvisor, it was evident that the majority of them were low-budget. This could imply that the reviews among these airlines may be too similar."
   ]
  },
  {
   "cell_type": "markdown",
   "metadata": {},
   "source": [
    "### Skytrax Scraper"
   ]
  },
  {
   "cell_type": "markdown",
   "metadata": {},
   "source": [
    "*Skytrax scraper for region information*"
   ]
  },
  {
   "cell_type": "code",
   "execution_count": null,
   "metadata": {},
   "outputs": [],
   "source": [
    "async def skytrax():\n",
    "    async with async_playwright() as p:\n",
    "\n",
    "        # Init browser\n",
    "        browser = await p.chromium.launch(headless=False, slow_mo=1500)\n",
    "        page = await browser.new_page()\n",
    "        region_list = list()\n",
    "\n",
    "        # Define main url and query parameters\n",
    "        og_url = \"https://skytraxratings.com/airlines?regions=\"\n",
    "        url_options = [\n",
    "            \"africa\",\n",
    "            \"asia\",\n",
    "            \"australiapacific\",\n",
    "            \"central-america-caribbean\",\n",
    "            \"china\",\n",
    "            \"europe\",\n",
    "            \"middle-east\",\n",
    "            \"north-america\",\n",
    "            \"russia-and-cis\",\n",
    "            \"south-america\"\n",
    "        ]\n",
    "\n",
    "        # Iterate through Skytrax pages filtered by region\n",
    "        for reg in url_options:\n",
    "            await page.goto(f\"{og_url}{reg}\")\n",
    "\n",
    "            # Click on drop down for 50 options\n",
    "            await page.select_option(\"select#set_posts_per_page\", value=\"50\")\n",
    "            names = page.locator('//div[contains(@class,\"pageportal__title\")]/h2')\n",
    "            titles = await names.all_inner_texts()\n",
    "            region_list.append({\n",
    "                f\"{reg}\": titles\n",
    "            })\n",
    "        return region_list"
   ]
  },
  {
   "cell_type": "markdown",
   "metadata": {},
   "source": [
    "In order to obtain airlines less similar to one another, the information on Skytrax was leveraged. The website contained filters that allowed users to choose airlines by region. There were 10 separate regions available as options, these regions will serve as the class labels for the text classification to come. The first 50 airlines of each region were stored."
   ]
  },
  {
   "cell_type": "code",
   "execution_count": null,
   "metadata": {},
   "outputs": [
    {
     "name": "stdout",
     "output_type": "stream",
     "text": [
      "[{'africa': ['Air Algerie',\n",
      "             'Air Botswana',\n",
      "             'Air Madagascar',\n",
      "             'Air Mauritius',\n",
      "             'Air Namibia',\n",
      "             'Air Seychelles',\n",
      "             'Arik Air',\n",
      "             'Cabo Verde Airlines',\n",
      "             'Egyptair',\n",
      "             'Ethiopian Airlines',\n",
      "             'fastjet',\n",
      "             'FlySafair',\n",
      "             'Kenya Airways',\n",
      "             'Kulula',\n",
      "             'LAM Mozambique Airlines',\n",
      "             'Mango',\n",
      "             'Nile Air',\n",
      "             'Nouvelair',\n",
      "             'Royal Air Maroc',\n",
      "             'Rwandair',\n",
      "             'South African Airways',\n",
      "             'Tunisair']},\n",
      " {'asia': ['9 Air',\n",
      "           'Air Busan',\n",
      "           'Air China',\n",
      "           'Air India',\n",
      "           'Air India Express',\n",
      "           'Air Macau',\n",
      "           'AirAsia',\n",
      "           'AirAsia India',\n",
      "           'AirAsia X',\n",
      "           'airblue',\n",
      "           'ANA All Nippon Airways',\n",
      "           'Asiana Airlines',\n",
      "           'Bamboo Airways',\n",
      "           'Bangkok Airways',\n",
      "           'Batik Air',\n",
      "           'Biman Bangladesh Airlines',\n",
      "           'Capital Airlines',\n",
      "           'Cathay Pacific Airways',\n",
      "           'Cebu Pacific',\n",
      "           'Chengdu Airlines',\n",
      "           'China Airlines',\n",
      "           'China Eastern Airlines',\n",
      "           'China Express Airlines',\n",
      "           'China Southern Airlines',\n",
      "           'China United Airlines',\n",
      "           'Chongqing Airlines',\n",
      "           'Citilink',\n",
      "           'Colorful Guizhou Airlines',\n",
      "           'Dalian Airlines',\n",
      "           'Donghai Airlines',\n",
      "           'Eastar Jet',\n",
      "           'EVA Air',\n",
      "           'Fuzhou Airlines',\n",
      "           'Garuda Indonesia',\n",
      "           'GoAir',\n",
      "           'GX Airlines',\n",
      "           'Hainan Airlines',\n",
      "           'Hebei Airlines',\n",
      "           'HK Express',\n",
      "           'Hong Kong Airlines',\n",
      "           'IndiGo',\n",
      "           'Japan Airlines',\n",
      "           'Jeju Air',\n",
      "           'Jetstar Asia Airways',\n",
      "           'Jiangxi Airlines',\n",
      "           'Jin Air',\n",
      "           'Juneyao Airlines',\n",
      "           'Korean Air',\n",
      "           'Kunming Airlines',\n",
      "           'Lao Airlines']},\n",
      " {'australiapacific': ['Air New Zealand',\n",
      "                       'Air Niugini',\n",
      "                       'Air Tahiti Nui',\n",
      "                       'Air Vanuatu',\n",
      "                       'Aircalin',\n",
      "                       'Fiji Airways',\n",
      "                       'Jetstar Airways',\n",
      "                       'Qantas Airways',\n",
      "                       'Virgin Australia']},\n",
      " {'central-america-caribbean': ['Air Caraibes',\n",
      "                                'Bahamasair',\n",
      "                                'Caribbean Airlines',\n",
      "                                'Cayman Airways',\n",
      "                                'Copa Airlines']},\n",
      " {'china': ['9 Air',\n",
      "            'Air China',\n",
      "            'Capital Airlines',\n",
      "            'Chengdu Airlines',\n",
      "            'China Eastern Airlines',\n",
      "            'China Express Airlines',\n",
      "            'China Southern Airlines',\n",
      "            'China United Airlines',\n",
      "            'Chongqing Airlines',\n",
      "            'Colorful Guizhou Airlines',\n",
      "            'Dalian Airlines',\n",
      "            'Donghai Airlines',\n",
      "            'Fuzhou Airlines',\n",
      "            'GX Airlines',\n",
      "            'Hainan Airlines',\n",
      "            'Hebei Airlines',\n",
      "            'Jiangxi Airlines',\n",
      "            'Juneyao Airlines',\n",
      "            'Kunming Airlines',\n",
      "            'Loong Air',\n",
      "            'Lucky Air',\n",
      "            'Okay Airways',\n",
      "            'Qingdao Airlines',\n",
      "            'Ruili Airlines',\n",
      "            'Shandong Airlines',\n",
      "            'Shenzhen Airlines',\n",
      "            'Sichuan Airlines',\n",
      "            'Spring Airlines',\n",
      "            'Tianjin Airlines',\n",
      "            'Urumqi Air',\n",
      "            'West Air',\n",
      "            'Xiamen Airlines']},\n",
      " {'europe': ['Aegean Airlines',\n",
      "             'Aer Lingus',\n",
      "             'Air Dolomiti',\n",
      "             'Air Europa',\n",
      "             'Air France',\n",
      "             'Air Malta',\n",
      "             'Air Nostrum',\n",
      "             'Air Serbia',\n",
      "             'airBaltic',\n",
      "             'AnadoluJet',\n",
      "             'Austrian Airlines',\n",
      "             'Blue Air',\n",
      "             'British Airways',\n",
      "             'Brussels Airlines',\n",
      "             'Bulgaria Air',\n",
      "             'Condor Airlines',\n",
      "             'Corendon Airlines',\n",
      "             'Croatia Airlines',\n",
      "             'CSA Czech Airlines',\n",
      "             'easyJet',\n",
      "             'Edelweiss Air',\n",
      "             'Eurowings',\n",
      "             'Finnair',\n",
      "             'French Bee',\n",
      "             'Iberia',\n",
      "             'Icelandair',\n",
      "             'ITA Airways',\n",
      "             'Jet2.com',\n",
      "             'KLM Royal Dutch Airlines',\n",
      "             'La Compagnie',\n",
      "             'LOT Polish Airlines',\n",
      "             'Lufthansa',\n",
      "             'Luxair',\n",
      "             'Norwegian',\n",
      "             'Onur Air',\n",
      "             'Pegasus Airlines',\n",
      "             'Ryanair',\n",
      "             'SAS Scandinavian Airlines',\n",
      "             'SATA Azores Airlines',\n",
      "             'SunExpress',\n",
      "             'Swiss International Air Lines',\n",
      "             'TAP Portugal',\n",
      "             'TAROM',\n",
      "             'Transavia',\n",
      "             'Transavia France',\n",
      "             'TUI Airways',\n",
      "             'Turkish Airlines',\n",
      "             'Virgin Atlantic',\n",
      "             'Volotea',\n",
      "             'Vueling Airlines']},\n",
      " {'middle-east': ['Air Arabia',\n",
      "                  'El Al Israel Airlines',\n",
      "                  'Emirates',\n",
      "                  'Etihad Airways',\n",
      "                  'Flyadeal',\n",
      "                  'flydubai',\n",
      "                  'Flynas',\n",
      "                  'Gulf Air',\n",
      "                  'Jazeera Airways',\n",
      "                  'Kuwait Airways',\n",
      "                  'Middle East Airlines',\n",
      "                  'Oman Air',\n",
      "                  'Qatar Airways',\n",
      "                  'Royal Jordanian Airlines',\n",
      "                  'Saudi Arabian Airlines']},\n",
      " {'north-america': ['Aeromexico',\n",
      "                    'Air Canada',\n",
      "                    'Air Canada rouge',\n",
      "                    'Air Transat',\n",
      "                    'Alaska Airlines',\n",
      "                    'Allegiant Air',\n",
      "                    'American Airlines',\n",
      "                    'Delta Air Lines',\n",
      "                    'Flair Airlines',\n",
      "                    'Frontier Airlines',\n",
      "                    'Hawaiian Airlines',\n",
      "                    'Interjet',\n",
      "                    'JetBlue Airways',\n",
      "                    'Porter Airlines',\n",
      "                    'Silver Airways',\n",
      "                    'Southwest Airlines',\n",
      "                    'Spirit Airlines',\n",
      "                    'Sun Country Airlines',\n",
      "                    'Sunwing Airlines',\n",
      "                    'Swoop',\n",
      "                    'United Airlines',\n",
      "                    'Viva Aerobus',\n",
      "                    'Volaris',\n",
      "                    'WestJet Airlines']},\n",
      " {'russia-and-cis': ['Aeroflot Russian Airlines',\n",
      "                     'Air Astana',\n",
      "                     'Air Moldova',\n",
      "                     'Azerbaijan Airlines',\n",
      "                     'Belavia Belarusian Airlines',\n",
      "                     'FlyArystan',\n",
      "                     'FlyOne',\n",
      "                     'S7 Siberia Airlines',\n",
      "                     'Ural Airlines']},\n",
      " {'south-america': ['Aerolineas Argentinas',\n",
      "                    'Avianca',\n",
      "                    'Azul Brazilian Airlines',\n",
      "                    'Boliviana de Aviación',\n",
      "                    'Easyfly',\n",
      "                    'GOL Airlines',\n",
      "                    'LATAM Airlines',\n",
      "                    'SKY Airline',\n",
      "                    'Viva Air']}]\n"
     ]
    }
   ],
   "source": [
    "region_airlines = await skytrax()\n",
    "\n",
    "pprint(region_airlines)"
   ]
  },
  {
   "cell_type": "code",
   "execution_count": null,
   "metadata": {},
   "outputs": [
    {
     "name": "stderr",
     "output_type": "stream",
     "text": [
      "/var/folders/t6/cjn4y6mx6lj46_h4_hhsk7740000gn/T/ipykernel_98051/2227609751.py:47: SettingWithCopyWarning: \n",
      "A value is trying to be set on a copy of a slice from a DataFrame.\n",
      "Try using .loc[row_indexer,col_indexer] = value instead\n",
      "\n",
      "See the caveats in the documentation: https://pandas.pydata.org/pandas-docs/stable/user_guide/indexing.html#returning-a-view-versus-a-copy\n",
      "  airlines_chosen[\"region\"] = airlines_chosen[\"airline_name\"].apply(add_region)\n"
     ]
    },
    {
     "data": {
      "text/html": [
       "<div>\n",
       "<style scoped>\n",
       "    .dataframe tbody tr th:only-of-type {\n",
       "        vertical-align: middle;\n",
       "    }\n",
       "\n",
       "    .dataframe tbody tr th {\n",
       "        vertical-align: top;\n",
       "    }\n",
       "\n",
       "    .dataframe thead th {\n",
       "        text-align: right;\n",
       "    }\n",
       "</style>\n",
       "<table border=\"1\" class=\"dataframe\">\n",
       "  <thead>\n",
       "    <tr style=\"text-align: right;\">\n",
       "      <th></th>\n",
       "      <th>airline_link</th>\n",
       "      <th>airline_name</th>\n",
       "      <th>airline_reviews</th>\n",
       "      <th>review_count</th>\n",
       "      <th>region</th>\n",
       "    </tr>\n",
       "  </thead>\n",
       "  <tbody>\n",
       "    <tr>\n",
       "      <th>225</th>\n",
       "      <td>https://www.tripadvisor.com/Airline_Review-d87...</td>\n",
       "      <td>Emirates</td>\n",
       "      <td>64,134 reviews</td>\n",
       "      <td>64134.0</td>\n",
       "      <td>Middle East</td>\n",
       "    </tr>\n",
       "    <tr>\n",
       "      <th>350</th>\n",
       "      <td>https://www.tripadvisor.com/Airline_Review-d10...</td>\n",
       "      <td>LATAM Airlines</td>\n",
       "      <td>40,963 reviews</td>\n",
       "      <td>40963.0</td>\n",
       "      <td>South America</td>\n",
       "    </tr>\n",
       "    <tr>\n",
       "      <th>364</th>\n",
       "      <td>https://www.tripadvisor.com/Airline_Review-d87...</td>\n",
       "      <td>Lufthansa</td>\n",
       "      <td>40,715 reviews</td>\n",
       "      <td>40715.0</td>\n",
       "      <td>Europe</td>\n",
       "    </tr>\n",
       "    <tr>\n",
       "      <th>28</th>\n",
       "      <td>https://www.tripadvisor.com/Airline_Review-d87...</td>\n",
       "      <td>Air Canada</td>\n",
       "      <td>29,753 reviews</td>\n",
       "      <td>29753.0</td>\n",
       "      <td>North America</td>\n",
       "    </tr>\n",
       "    <tr>\n",
       "      <th>5</th>\n",
       "      <td>https://www.tripadvisor.com/Airline_Review-d87...</td>\n",
       "      <td>Aeroflot</td>\n",
       "      <td>20,691 reviews</td>\n",
       "      <td>20691.0</td>\n",
       "      <td>Indian Subcontinent</td>\n",
       "    </tr>\n",
       "    <tr>\n",
       "      <th>175</th>\n",
       "      <td>https://www.tripadvisor.com/Airline_Review-d87...</td>\n",
       "      <td>Cathay Pacific</td>\n",
       "      <td>16,642 reviews</td>\n",
       "      <td>16642.0</td>\n",
       "      <td>Asia</td>\n",
       "    </tr>\n",
       "    <tr>\n",
       "      <th>198</th>\n",
       "      <td>https://www.tripadvisor.com/Airline_Review-d87...</td>\n",
       "      <td>Copa Airlines</td>\n",
       "      <td>13,288 reviews</td>\n",
       "      <td>13288.0</td>\n",
       "      <td>Central America</td>\n",
       "    </tr>\n",
       "    <tr>\n",
       "      <th>591</th>\n",
       "      <td>https://www.tripadvisor.com/Airline_Review-d87...</td>\n",
       "      <td>Virgin Australia</td>\n",
       "      <td>11,957 reviews</td>\n",
       "      <td>11957.0</td>\n",
       "      <td>Pacific</td>\n",
       "    </tr>\n",
       "    <tr>\n",
       "      <th>34</th>\n",
       "      <td>https://www.tripadvisor.com/Airline_Review-d87...</td>\n",
       "      <td>Air China</td>\n",
       "      <td>6,004 reviews</td>\n",
       "      <td>6004.0</td>\n",
       "      <td>China</td>\n",
       "    </tr>\n",
       "    <tr>\n",
       "      <th>503</th>\n",
       "      <td>https://www.tripadvisor.com/Airline_Review-d87...</td>\n",
       "      <td>South African Airways</td>\n",
       "      <td>4,883 reviews</td>\n",
       "      <td>4883.0</td>\n",
       "      <td>Africa</td>\n",
       "    </tr>\n",
       "  </tbody>\n",
       "</table>\n",
       "</div>"
      ],
      "text/plain": [
       "                                          airline_link           airline_name  \\\n",
       "225  https://www.tripadvisor.com/Airline_Review-d87...               Emirates   \n",
       "350  https://www.tripadvisor.com/Airline_Review-d10...         LATAM Airlines   \n",
       "364  https://www.tripadvisor.com/Airline_Review-d87...              Lufthansa   \n",
       "28   https://www.tripadvisor.com/Airline_Review-d87...             Air Canada   \n",
       "5    https://www.tripadvisor.com/Airline_Review-d87...               Aeroflot   \n",
       "175  https://www.tripadvisor.com/Airline_Review-d87...         Cathay Pacific   \n",
       "198  https://www.tripadvisor.com/Airline_Review-d87...          Copa Airlines   \n",
       "591  https://www.tripadvisor.com/Airline_Review-d87...       Virgin Australia   \n",
       "34   https://www.tripadvisor.com/Airline_Review-d87...              Air China   \n",
       "503  https://www.tripadvisor.com/Airline_Review-d87...  South African Airways   \n",
       "\n",
       "    airline_reviews  review_count               region  \n",
       "225  64,134 reviews       64134.0          Middle East  \n",
       "350  40,963 reviews       40963.0        South America  \n",
       "364  40,715 reviews       40715.0               Europe  \n",
       "28   29,753 reviews       29753.0        North America  \n",
       "5    20,691 reviews       20691.0  Indian Subcontinent  \n",
       "175  16,642 reviews       16642.0                 Asia  \n",
       "198  13,288 reviews       13288.0      Central America  \n",
       "591  11,957 reviews       11957.0              Pacific  \n",
       "34    6,004 reviews        6004.0                China  \n",
       "503   4,883 reviews        4883.0               Africa  "
      ]
     },
     "execution_count": 16,
     "metadata": {},
     "output_type": "execute_result"
    }
   ],
   "source": [
    "# Choose region specific airlines\n",
    "\n",
    "airlines_for_reviews = [\n",
    "    \"South African Airways\",\n",
    "    \"Cathay Pacific\",\n",
    "    \"Virgin Australia\",\n",
    "    \"Copa Airlines\",\n",
    "    \"Air China\",\n",
    "    \"Lufthansa\",\n",
    "    \"Emirates\",\n",
    "    \"Air Canada\",\n",
    "    \"Aeroflot\",\n",
    "    \"LATAM Airlines\"\n",
    "]\n",
    "\n",
    "# Create dataframe consisting of chosen airlines\n",
    "\n",
    "airlines_chosen = airlines_df[airlines_df[\"airline_name\"].isin(airlines_for_reviews)]\n",
    "\n",
    "# Helper function for assigning region to airline (based on Skytrax)\n",
    "\n",
    "def add_region(name):\n",
    "    match name:\n",
    "        case \"South African Airways\":\n",
    "            return \"Africa\"\n",
    "        case \"Cathay Pacific\":\n",
    "            return \"Asia\"\n",
    "        case \"Virgin Australia\":\n",
    "            return \"Pacific\"\n",
    "        case \"Copa Airlines\":\n",
    "            return \"Central America\"\n",
    "        case \"Air China\":\n",
    "            return \"China\"\n",
    "        case \"Lufthansa\":\n",
    "            return \"Europe\"\n",
    "        case \"Emirates\":\n",
    "            return \"Middle East\"\n",
    "        case \"Air Canada\":\n",
    "            return \"North America\"\n",
    "        case \"Aeroflot\":\n",
    "            return \"Indian Subcontinent\"\n",
    "        case \"LATAM Airlines\":\n",
    "            return \"South America\"\n",
    "\n",
    "# Add to dataframe\n",
    "\n",
    "airlines_chosen[\"region\"] = airlines_chosen[\"airline_name\"].apply(add_region)\n",
    "\n",
    "airlines_chosen"
   ]
  },
  {
   "cell_type": "markdown",
   "metadata": {},
   "source": [
    "One airline from each of the ten regions was selected and a separate dataframe containing specific airlines was created. The region was added to the dataframe of the chosen airlines. The links for the airline reviews were put into a list for further web scraping below."
   ]
  },
  {
   "cell_type": "markdown",
   "metadata": {},
   "source": [
    "*Create search query list*"
   ]
  },
  {
   "cell_type": "code",
   "execution_count": null,
   "metadata": {},
   "outputs": [
    {
     "name": "stdout",
     "output_type": "stream",
     "text": [
      "['https://www.tripadvisor.com/Airline_Review-d8729069-Reviews-Emirates', 'https://www.tripadvisor.com/Airline_Review-d10290698-Reviews-LATAM-Airlines', 'https://www.tripadvisor.com/Airline_Review-d8729113-Reviews-Lufthansa', 'https://www.tripadvisor.com/Airline_Review-d8728998-Reviews-Air-Canada', 'https://www.tripadvisor.com/Airline_Review-d8728987-Reviews-Aeroflot', 'https://www.tripadvisor.com/Airline_Review-d8729046-Reviews-Cathay-Pacific', 'https://www.tripadvisor.com/Airline_Review-d8729055-Reviews-Copa-Airlines', 'https://www.tripadvisor.com/Airline_Review-d8728931-Reviews-Virgin-Australia', 'https://www.tripadvisor.com/Airline_Review-d8729000-Reviews-Air-China', 'https://www.tripadvisor.com/Airline_Review-d8729155-Reviews-South-African-Airways']\n",
      "<class 'list'>\n"
     ]
    }
   ],
   "source": [
    "# Get list of links for chosen airlines\n",
    "\n",
    "search_queries = airlines_chosen['airline_link'].to_list()\n",
    "\n",
    "print(search_queries)\n",
    "print(type(search_queries))"
   ]
  },
  {
   "cell_type": "markdown",
   "metadata": {},
   "source": [
    "### Final TripAdvisor Scraper"
   ]
  },
  {
   "cell_type": "markdown",
   "metadata": {},
   "source": [
    "*Scrape TripAdvisor Reviews based on extracted region information*"
   ]
  },
  {
   "cell_type": "code",
   "execution_count": null,
   "metadata": {},
   "outputs": [],
   "source": [
    "# Function to go to next page\n",
    "\n",
    "async def paginate_reviews(page, browser):\n",
    "    try:\n",
    "        next_page = page.locator('//a[@class=\"ui_button nav next primary \"]')\n",
    "        await next_page.click()\n",
    "        # print('Clicked next page!!!')\n",
    "        return page\n",
    "    except:\n",
    "        print('No next page!!!')\n",
    "\n",
    "# Helper function to click Read more of review - Not currently used\n",
    "\n",
    "async def click_read_more(page):\n",
    "    read_more = page.locator('//div[@data-test-target=\"expand-review\"]/span[1]')\n",
    "    await read_more.all()\n",
    "    return page\n",
    "\n",
    "# Function to scrape reviews on page\n",
    "\n",
    "async def review_scrape(page, browser):\n",
    "    # Create lists to store scraped info\n",
    "    reviews = list()\n",
    "    idx = 0\n",
    "    revc_title=[]\n",
    "    revc_text=[]\n",
    "    while idx < 20:                                 # 20 pages of reviews \n",
    "        page_info = list()\n",
    "        await page.mouse.wheel(0, 15000)            # scroll down function\n",
    "        title = page.locator('//div[@data-test-target=\"review-title\"]/a/span/span')\n",
    "        text = page.locator('//div[@data-test-target=\"review-title\"]/following-sibling::div')\n",
    "        rating = page.locator('//span[@class=\"ammfn\"]')\n",
    "        \n",
    "        titles = await title.all_inner_texts()      # grab review titles\n",
    "        texts = await text.all_inner_texts()        # grab review texts\n",
    "        rating = await rating.all_inner_texts()     # grab airline rating\n",
    "\n",
    "        # Merge two lists into dictionary with title and text keys\n",
    "        for jdx in range(len(titles)):\n",
    "            rev_title = titles[jdx]\n",
    "            revc_title.append(rev_title)\n",
    "\n",
    "            rev_raw_text = texts[jdx]\n",
    "            rev_text = rev_raw_text.split(\"Read more\")  # Split review by Read more button\n",
    "            rev_text = rev_text[0]\n",
    "            revc_text.append(rev_text)\n",
    "            el = {                                      # Add information to relevant list\n",
    "                \"review_title\": f\"{rev_title}\",\n",
    "                \"review_text\": f\"{rev_text}\"\n",
    "            }\n",
    "            page_info.append(el)\n",
    "        reviews.append(page_info)\n",
    "\n",
    "        # Paginate\n",
    "        idx += 1\n",
    "        await paginate_reviews(page, browser)           # Go to next page of reviews\n",
    "    return reviews, revc_title, revc_text, rating"
   ]
  },
  {
   "cell_type": "markdown",
   "metadata": {},
   "source": [
    "The use-case for each method above is as follows:\n",
    "\n",
    "- click_read_more: This is a helper function that is meant to expand the review text in the \"Read more\" section of a review. It is currently not being used in the project\n",
    "\n",
    "- paginate-reviews: This function is a scraping helper that tells the parser to move on to the next page of reviews. It is used in the review_scrape() method\n",
    "\n",
    "- review_scrape: This function deals with the main extraction of text contained in HTML elements of review pages. It identifies where the review titles and texts are on a given page, along with the airline ratings. \n",
    "\n",
    "Below, the functions are utilized to scrape the airline reviews:"
   ]
  },
  {
   "cell_type": "code",
   "execution_count": null,
   "metadata": {},
   "outputs": [
    {
     "name": "stdout",
     "output_type": "stream",
     "text": [
      "Clicked next page!!!\n",
      "Clicked next page!!!\n",
      "Clicked next page!!!\n",
      "Clicked next page!!!\n",
      "Clicked next page!!!\n",
      "Clicked next page!!!\n",
      "Clicked next page!!!\n",
      "Clicked next page!!!\n",
      "Clicked next page!!!\n",
      "Clicked next page!!!\n",
      "Clicked next page!!!\n",
      "Clicked next page!!!\n",
      "Clicked next page!!!\n",
      "Clicked next page!!!\n",
      "Clicked next page!!!\n",
      "Clicked next page!!!\n",
      "Clicked next page!!!\n",
      "Clicked next page!!!\n",
      "Clicked next page!!!\n",
      "Clicked next page!!!\n",
      "Clicked next page!!!\n",
      "Clicked next page!!!\n",
      "Clicked next page!!!\n",
      "Clicked next page!!!\n",
      "Clicked next page!!!\n",
      "Clicked next page!!!\n",
      "Clicked next page!!!\n",
      "Clicked next page!!!\n",
      "Clicked next page!!!\n",
      "Clicked next page!!!\n",
      "Clicked next page!!!\n",
      "Clicked next page!!!\n",
      "Clicked next page!!!\n",
      "Clicked next page!!!\n",
      "Clicked next page!!!\n",
      "Clicked next page!!!\n",
      "Clicked next page!!!\n",
      "Clicked next page!!!\n",
      "Clicked next page!!!\n",
      "Clicked next page!!!\n",
      "Clicked next page!!!\n",
      "Clicked next page!!!\n",
      "Clicked next page!!!\n",
      "Clicked next page!!!\n",
      "Clicked next page!!!\n",
      "Clicked next page!!!\n",
      "Clicked next page!!!\n",
      "Clicked next page!!!\n",
      "Clicked next page!!!\n",
      "Clicked next page!!!\n",
      "Clicked next page!!!\n",
      "Clicked next page!!!\n",
      "Clicked next page!!!\n",
      "Clicked next page!!!\n",
      "Clicked next page!!!\n",
      "Clicked next page!!!\n",
      "Clicked next page!!!\n",
      "Clicked next page!!!\n",
      "Clicked next page!!!\n",
      "Clicked next page!!!\n",
      "Clicked next page!!!\n",
      "Clicked next page!!!\n",
      "Clicked next page!!!\n",
      "Clicked next page!!!\n",
      "Clicked next page!!!\n",
      "Clicked next page!!!\n",
      "Clicked next page!!!\n",
      "Clicked next page!!!\n",
      "Clicked next page!!!\n",
      "Clicked next page!!!\n",
      "Clicked next page!!!\n",
      "Clicked next page!!!\n",
      "Clicked next page!!!\n",
      "Clicked next page!!!\n",
      "Clicked next page!!!\n",
      "Clicked next page!!!\n",
      "Clicked next page!!!\n",
      "Clicked next page!!!\n",
      "Clicked next page!!!\n",
      "Clicked next page!!!\n",
      "Clicked next page!!!\n",
      "Clicked next page!!!\n",
      "Clicked next page!!!\n",
      "Clicked next page!!!\n",
      "Clicked next page!!!\n",
      "Clicked next page!!!\n",
      "Clicked next page!!!\n",
      "Clicked next page!!!\n",
      "Clicked next page!!!\n",
      "Clicked next page!!!\n",
      "Clicked next page!!!\n",
      "Clicked next page!!!\n",
      "Clicked next page!!!\n",
      "Clicked next page!!!\n",
      "Clicked next page!!!\n",
      "Clicked next page!!!\n",
      "Clicked next page!!!\n",
      "Clicked next page!!!\n",
      "Clicked next page!!!\n",
      "Clicked next page!!!\n",
      "Clicked next page!!!\n",
      "Clicked next page!!!\n",
      "Clicked next page!!!\n",
      "Clicked next page!!!\n",
      "Clicked next page!!!\n",
      "Clicked next page!!!\n",
      "Clicked next page!!!\n",
      "Clicked next page!!!\n",
      "Clicked next page!!!\n",
      "Clicked next page!!!\n",
      "Clicked next page!!!\n",
      "Clicked next page!!!\n",
      "Clicked next page!!!\n",
      "Clicked next page!!!\n",
      "Clicked next page!!!\n",
      "Clicked next page!!!\n",
      "Clicked next page!!!\n",
      "Clicked next page!!!\n",
      "Clicked next page!!!\n",
      "Clicked next page!!!\n",
      "Clicked next page!!!\n",
      "Clicked next page!!!\n",
      "Clicked next page!!!\n",
      "Clicked next page!!!\n",
      "Clicked next page!!!\n",
      "Clicked next page!!!\n",
      "Clicked next page!!!\n",
      "Clicked next page!!!\n",
      "Clicked next page!!!\n",
      "Clicked next page!!!\n",
      "Clicked next page!!!\n",
      "Clicked next page!!!\n",
      "Clicked next page!!!\n",
      "Clicked next page!!!\n",
      "Clicked next page!!!\n",
      "Clicked next page!!!\n",
      "Clicked next page!!!\n",
      "Clicked next page!!!\n",
      "Clicked next page!!!\n",
      "Clicked next page!!!\n",
      "Clicked next page!!!\n",
      "Clicked next page!!!\n",
      "Clicked next page!!!\n",
      "Clicked next page!!!\n",
      "Clicked next page!!!\n",
      "Clicked next page!!!\n",
      "Clicked next page!!!\n",
      "Clicked next page!!!\n",
      "Clicked next page!!!\n",
      "Clicked next page!!!\n",
      "Clicked next page!!!\n",
      "Clicked next page!!!\n",
      "Clicked next page!!!\n",
      "Clicked next page!!!\n",
      "Clicked next page!!!\n",
      "Clicked next page!!!\n",
      "Clicked next page!!!\n",
      "Clicked next page!!!\n",
      "Clicked next page!!!\n",
      "Clicked next page!!!\n",
      "Clicked next page!!!\n",
      "Clicked next page!!!\n",
      "Clicked next page!!!\n",
      "Clicked next page!!!\n",
      "Clicked next page!!!\n",
      "Clicked next page!!!\n",
      "Clicked next page!!!\n",
      "Clicked next page!!!\n",
      "Clicked next page!!!\n",
      "Clicked next page!!!\n",
      "Clicked next page!!!\n",
      "Clicked next page!!!\n",
      "Clicked next page!!!\n",
      "Clicked next page!!!\n",
      "Clicked next page!!!\n",
      "Clicked next page!!!\n",
      "Clicked next page!!!\n",
      "Clicked next page!!!\n",
      "Clicked next page!!!\n",
      "Clicked next page!!!\n",
      "Clicked next page!!!\n",
      "Clicked next page!!!\n",
      "Clicked next page!!!\n",
      "Clicked next page!!!\n",
      "Clicked next page!!!\n",
      "Clicked next page!!!\n",
      "Clicked next page!!!\n",
      "Clicked next page!!!\n",
      "Clicked next page!!!\n",
      "Clicked next page!!!\n",
      "Clicked next page!!!\n",
      "Clicked next page!!!\n",
      "Clicked next page!!!\n",
      "Clicked next page!!!\n",
      "Clicked next page!!!\n",
      "Clicked next page!!!\n",
      "Clicked next page!!!\n",
      "Clicked next page!!!\n",
      "Clicked next page!!!\n",
      "Clicked next page!!!\n"
     ]
    }
   ],
   "source": [
    "# Function to scrape reviews on page using functions above\n",
    "\n",
    "async with async_playwright() as p:\n",
    "\n",
    "    # Init browser\n",
    "\n",
    "    browser = await p.chromium.launch(headless=False, slow_mo=1500)\n",
    "    page = await browser.new_page()\n",
    "    rev_list = list()\n",
    "\n",
    "    # Go to trip advisor\n",
    "\n",
    "    await page.goto(\"https://www.tripadvisor.com/Airlines\")\n",
    "\n",
    "    # Scrape page and paginate\n",
    "    rtlist=[]\n",
    "    rtextlist=[]\n",
    "    airlineratinglist=[]\n",
    "    for q in search_queries:\n",
    "        # Go to url with reviews\n",
    "        await page.goto(f\"{q}\")\n",
    "\n",
    "        # Scrape relevant information\n",
    "        reviews,rt,rtext,airlinerating = await review_scrape(page, browser)\n",
    "        \n",
    "        # Add to relevant list\n",
    "        rtlist.append(rt)\n",
    "        rtextlist.append(rtext)\n",
    "        airlineratinglist.append(airlinerating)\n",
    "        rev_list.append({\n",
    "            \"Airline\": f\"{q}\",\n",
    "            \"Reviews\": f\"{reviews}\"\n",
    "        })"
   ]
  },
  {
   "cell_type": "code",
   "execution_count": null,
   "metadata": {},
   "outputs": [
    {
     "data": {
      "text/html": [
       "<div>\n",
       "<style scoped>\n",
       "    .dataframe tbody tr th:only-of-type {\n",
       "        vertical-align: middle;\n",
       "    }\n",
       "\n",
       "    .dataframe tbody tr th {\n",
       "        vertical-align: top;\n",
       "    }\n",
       "\n",
       "    .dataframe thead th {\n",
       "        text-align: right;\n",
       "    }\n",
       "</style>\n",
       "<table border=\"1\" class=\"dataframe\">\n",
       "  <thead>\n",
       "    <tr style=\"text-align: right;\">\n",
       "      <th></th>\n",
       "      <th>airline_link</th>\n",
       "      <th>airline_name</th>\n",
       "      <th>airline_reviews</th>\n",
       "      <th>review_count</th>\n",
       "      <th>region</th>\n",
       "      <th>Rating</th>\n",
       "      <th>Review_Title</th>\n",
       "      <th>Review_Text</th>\n",
       "    </tr>\n",
       "  </thead>\n",
       "  <tbody>\n",
       "    <tr>\n",
       "      <th>225</th>\n",
       "      <td>https://www.tripadvisor.com/Airline_Review-d87...</td>\n",
       "      <td>Emirates</td>\n",
       "      <td>64,134 reviews</td>\n",
       "      <td>64134.0</td>\n",
       "      <td>Middle East</td>\n",
       "      <td>[4.0]</td>\n",
       "      <td>[Top customer services!!, Horrible, well below...</td>\n",
       "      <td>[Alma was so smiley, friendly and came with th...</td>\n",
       "    </tr>\n",
       "    <tr>\n",
       "      <th>350</th>\n",
       "      <td>https://www.tripadvisor.com/Airline_Review-d10...</td>\n",
       "      <td>LATAM Airlines</td>\n",
       "      <td>40,963 reviews</td>\n",
       "      <td>40963.0</td>\n",
       "      <td>South America</td>\n",
       "      <td>[3.5]</td>\n",
       "      <td>[A customer care that mirrors that 80’s, Two d...</td>\n",
       "      <td>[I have tried to change the flight 3 time. Ini...</td>\n",
       "    </tr>\n",
       "    <tr>\n",
       "      <th>364</th>\n",
       "      <td>https://www.tripadvisor.com/Airline_Review-d87...</td>\n",
       "      <td>Lufthansa</td>\n",
       "      <td>40,715 reviews</td>\n",
       "      <td>40715.0</td>\n",
       "      <td>Europe</td>\n",
       "      <td>[3.5]</td>\n",
       "      <td>[Bad customer service and flight cancellation ...</td>\n",
       "      <td>[Flight was cancelled and pushed back 2 days. ...</td>\n",
       "    </tr>\n",
       "    <tr>\n",
       "      <th>28</th>\n",
       "      <td>https://www.tripadvisor.com/Airline_Review-d87...</td>\n",
       "      <td>Air Canada</td>\n",
       "      <td>29,753 reviews</td>\n",
       "      <td>29753.0</td>\n",
       "      <td>North America</td>\n",
       "      <td>[3.0]</td>\n",
       "      <td>[AWFUL, Worst flight experiences ever. Stay aw...</td>\n",
       "      <td>[Signed in online, paid $50 for an additional ...</td>\n",
       "    </tr>\n",
       "    <tr>\n",
       "      <th>5</th>\n",
       "      <td>https://www.tripadvisor.com/Airline_Review-d87...</td>\n",
       "      <td>Aeroflot</td>\n",
       "      <td>20,691 reviews</td>\n",
       "      <td>20691.0</td>\n",
       "      <td>Indian Subcontinent</td>\n",
       "      <td>[4.0]</td>\n",
       "      <td>[Day 320: Repayment still did not work out, WO...</td>\n",
       "      <td>[To my great surprise, I received the free, wo...</td>\n",
       "    </tr>\n",
       "    <tr>\n",
       "      <th>175</th>\n",
       "      <td>https://www.tripadvisor.com/Airline_Review-d87...</td>\n",
       "      <td>Cathay Pacific</td>\n",
       "      <td>16,642 reviews</td>\n",
       "      <td>16642.0</td>\n",
       "      <td>Asia</td>\n",
       "      <td>[4.0]</td>\n",
       "      <td>[Shocking experience...never again!, Excellent...</td>\n",
       "      <td>[Absolutely shocking customer service...meals ...</td>\n",
       "    </tr>\n",
       "    <tr>\n",
       "      <th>198</th>\n",
       "      <td>https://www.tripadvisor.com/Airline_Review-d87...</td>\n",
       "      <td>Copa Airlines</td>\n",
       "      <td>13,288 reviews</td>\n",
       "      <td>13288.0</td>\n",
       "      <td>Central America</td>\n",
       "      <td>[3.5]</td>\n",
       "      <td>[Worst airline ever, Disappointed about my las...</td>\n",
       "      <td>[worst experience ever. I arrived to my destin...</td>\n",
       "    </tr>\n",
       "    <tr>\n",
       "      <th>591</th>\n",
       "      <td>https://www.tripadvisor.com/Airline_Review-d87...</td>\n",
       "      <td>Virgin Australia</td>\n",
       "      <td>11,957 reviews</td>\n",
       "      <td>11957.0</td>\n",
       "      <td>Pacific</td>\n",
       "      <td>[3.5]</td>\n",
       "      <td>[Kind and knowledgeable staff., Awful customer...</td>\n",
       "      <td>[We had a terrible start to our 7.15am flight ...</td>\n",
       "    </tr>\n",
       "    <tr>\n",
       "      <th>34</th>\n",
       "      <td>https://www.tripadvisor.com/Airline_Review-d87...</td>\n",
       "      <td>Air China</td>\n",
       "      <td>6,004 reviews</td>\n",
       "      <td>6004.0</td>\n",
       "      <td>China</td>\n",
       "      <td>[3.0]</td>\n",
       "      <td>[Great trip, decent food, great cabin crew, ME...</td>\n",
       "      <td>[The cabin crew was very sweet and caring. I f...</td>\n",
       "    </tr>\n",
       "    <tr>\n",
       "      <th>503</th>\n",
       "      <td>https://www.tripadvisor.com/Airline_Review-d87...</td>\n",
       "      <td>South African Airways</td>\n",
       "      <td>4,883 reviews</td>\n",
       "      <td>4883.0</td>\n",
       "      <td>Africa</td>\n",
       "      <td>[3.5]</td>\n",
       "      <td>[Happy Customer’s, Avoid at all costs - zero c...</td>\n",
       "      <td>[I started writing this while in the plane. Th...</td>\n",
       "    </tr>\n",
       "  </tbody>\n",
       "</table>\n",
       "</div>"
      ],
      "text/plain": [
       "                                          airline_link           airline_name  \\\n",
       "225  https://www.tripadvisor.com/Airline_Review-d87...               Emirates   \n",
       "350  https://www.tripadvisor.com/Airline_Review-d10...         LATAM Airlines   \n",
       "364  https://www.tripadvisor.com/Airline_Review-d87...              Lufthansa   \n",
       "28   https://www.tripadvisor.com/Airline_Review-d87...             Air Canada   \n",
       "5    https://www.tripadvisor.com/Airline_Review-d87...               Aeroflot   \n",
       "175  https://www.tripadvisor.com/Airline_Review-d87...         Cathay Pacific   \n",
       "198  https://www.tripadvisor.com/Airline_Review-d87...          Copa Airlines   \n",
       "591  https://www.tripadvisor.com/Airline_Review-d87...       Virgin Australia   \n",
       "34   https://www.tripadvisor.com/Airline_Review-d87...              Air China   \n",
       "503  https://www.tripadvisor.com/Airline_Review-d87...  South African Airways   \n",
       "\n",
       "    airline_reviews  review_count               region Rating  \\\n",
       "225  64,134 reviews       64134.0          Middle East  [4.0]   \n",
       "350  40,963 reviews       40963.0        South America  [3.5]   \n",
       "364  40,715 reviews       40715.0               Europe  [3.5]   \n",
       "28   29,753 reviews       29753.0        North America  [3.0]   \n",
       "5    20,691 reviews       20691.0  Indian Subcontinent  [4.0]   \n",
       "175  16,642 reviews       16642.0                 Asia  [4.0]   \n",
       "198  13,288 reviews       13288.0      Central America  [3.5]   \n",
       "591  11,957 reviews       11957.0              Pacific  [3.5]   \n",
       "34    6,004 reviews        6004.0                China  [3.0]   \n",
       "503   4,883 reviews        4883.0               Africa  [3.5]   \n",
       "\n",
       "                                          Review_Title  \\\n",
       "225  [Top customer services!!, Horrible, well below...   \n",
       "350  [A customer care that mirrors that 80’s, Two d...   \n",
       "364  [Bad customer service and flight cancellation ...   \n",
       "28   [AWFUL, Worst flight experiences ever. Stay aw...   \n",
       "5    [Day 320: Repayment still did not work out, WO...   \n",
       "175  [Shocking experience...never again!, Excellent...   \n",
       "198  [Worst airline ever, Disappointed about my las...   \n",
       "591  [Kind and knowledgeable staff., Awful customer...   \n",
       "34   [Great trip, decent food, great cabin crew, ME...   \n",
       "503  [Happy Customer’s, Avoid at all costs - zero c...   \n",
       "\n",
       "                                           Review_Text  \n",
       "225  [Alma was so smiley, friendly and came with th...  \n",
       "350  [I have tried to change the flight 3 time. Ini...  \n",
       "364  [Flight was cancelled and pushed back 2 days. ...  \n",
       "28   [Signed in online, paid $50 for an additional ...  \n",
       "5    [To my great surprise, I received the free, wo...  \n",
       "175  [Absolutely shocking customer service...meals ...  \n",
       "198  [worst experience ever. I arrived to my destin...  \n",
       "591  [We had a terrible start to our 7.15am flight ...  \n",
       "34   [The cabin crew was very sweet and caring. I f...  \n",
       "503  [I started writing this while in the plane. Th...  "
      ]
     },
     "execution_count": 22,
     "metadata": {},
     "output_type": "execute_result"
    }
   ],
   "source": [
    "# Append relevant lists from code block above to dataframe\n",
    "\n",
    "airlines_df = airlines_chosen\n",
    "airlines_df['Rating']=airlineratinglist\n",
    "airlines_df['Review_Title']=rtlist\n",
    "airlines_df['Review_Text']=rtextlist\n",
    "\n",
    "airlines_df"
   ]
  },
  {
   "cell_type": "markdown",
   "metadata": {},
   "source": [
    "*Save Reviews as JSON*"
   ]
  },
  {
   "cell_type": "code",
   "execution_count": null,
   "metadata": {},
   "outputs": [
    {
     "data": {
      "text/html": [
       "<div>\n",
       "<style scoped>\n",
       "    .dataframe tbody tr th:only-of-type {\n",
       "        vertical-align: middle;\n",
       "    }\n",
       "\n",
       "    .dataframe tbody tr th {\n",
       "        vertical-align: top;\n",
       "    }\n",
       "\n",
       "    .dataframe thead th {\n",
       "        text-align: right;\n",
       "    }\n",
       "</style>\n",
       "<table border=\"1\" class=\"dataframe\">\n",
       "  <thead>\n",
       "    <tr style=\"text-align: right;\">\n",
       "      <th></th>\n",
       "      <th>airline_link</th>\n",
       "      <th>airline_name</th>\n",
       "      <th>airline_reviews</th>\n",
       "      <th>review_count</th>\n",
       "      <th>region</th>\n",
       "      <th>Rating</th>\n",
       "      <th>Review_Title</th>\n",
       "      <th>Review_Text</th>\n",
       "    </tr>\n",
       "  </thead>\n",
       "  <tbody>\n",
       "    <tr>\n",
       "      <th>0</th>\n",
       "      <td>https://www.tripadvisor.com/Airline_Review-d87...</td>\n",
       "      <td>Emirates</td>\n",
       "      <td>64,134 reviews</td>\n",
       "      <td>64134.0</td>\n",
       "      <td>Middle East</td>\n",
       "      <td>[4.0]</td>\n",
       "      <td>[Top customer services!!, Horrible, well below...</td>\n",
       "      <td>[Alma was so smiley, friendly and came with th...</td>\n",
       "    </tr>\n",
       "    <tr>\n",
       "      <th>1</th>\n",
       "      <td>https://www.tripadvisor.com/Airline_Review-d10...</td>\n",
       "      <td>LATAM Airlines</td>\n",
       "      <td>40,963 reviews</td>\n",
       "      <td>40963.0</td>\n",
       "      <td>South America</td>\n",
       "      <td>[3.5]</td>\n",
       "      <td>[A customer care that mirrors that 80’s, Two d...</td>\n",
       "      <td>[I have tried to change the flight 3 time. Ini...</td>\n",
       "    </tr>\n",
       "    <tr>\n",
       "      <th>2</th>\n",
       "      <td>https://www.tripadvisor.com/Airline_Review-d87...</td>\n",
       "      <td>Lufthansa</td>\n",
       "      <td>40,715 reviews</td>\n",
       "      <td>40715.0</td>\n",
       "      <td>Europe</td>\n",
       "      <td>[3.5]</td>\n",
       "      <td>[Bad customer service and flight cancellation ...</td>\n",
       "      <td>[Flight was cancelled and pushed back 2 days. ...</td>\n",
       "    </tr>\n",
       "    <tr>\n",
       "      <th>3</th>\n",
       "      <td>https://www.tripadvisor.com/Airline_Review-d87...</td>\n",
       "      <td>Air Canada</td>\n",
       "      <td>29,753 reviews</td>\n",
       "      <td>29753.0</td>\n",
       "      <td>North America</td>\n",
       "      <td>[3.0]</td>\n",
       "      <td>[AWFUL, Worst flight experiences ever. Stay aw...</td>\n",
       "      <td>[Signed in online, paid $50 for an additional ...</td>\n",
       "    </tr>\n",
       "    <tr>\n",
       "      <th>4</th>\n",
       "      <td>https://www.tripadvisor.com/Airline_Review-d87...</td>\n",
       "      <td>Aeroflot</td>\n",
       "      <td>20,691 reviews</td>\n",
       "      <td>20691.0</td>\n",
       "      <td>Indian Subcontinent</td>\n",
       "      <td>[4.0]</td>\n",
       "      <td>[Day 320: Repayment still did not work out, WO...</td>\n",
       "      <td>[To my great surprise, I received the free, wo...</td>\n",
       "    </tr>\n",
       "    <tr>\n",
       "      <th>5</th>\n",
       "      <td>https://www.tripadvisor.com/Airline_Review-d87...</td>\n",
       "      <td>Cathay Pacific</td>\n",
       "      <td>16,642 reviews</td>\n",
       "      <td>16642.0</td>\n",
       "      <td>Asia</td>\n",
       "      <td>[4.0]</td>\n",
       "      <td>[Shocking experience...never again!, Excellent...</td>\n",
       "      <td>[Absolutely shocking customer service...meals ...</td>\n",
       "    </tr>\n",
       "    <tr>\n",
       "      <th>6</th>\n",
       "      <td>https://www.tripadvisor.com/Airline_Review-d87...</td>\n",
       "      <td>Copa Airlines</td>\n",
       "      <td>13,288 reviews</td>\n",
       "      <td>13288.0</td>\n",
       "      <td>Central America</td>\n",
       "      <td>[3.5]</td>\n",
       "      <td>[Worst airline ever, Disappointed about my las...</td>\n",
       "      <td>[worst experience ever. I arrived to my destin...</td>\n",
       "    </tr>\n",
       "    <tr>\n",
       "      <th>7</th>\n",
       "      <td>https://www.tripadvisor.com/Airline_Review-d87...</td>\n",
       "      <td>Virgin Australia</td>\n",
       "      <td>11,957 reviews</td>\n",
       "      <td>11957.0</td>\n",
       "      <td>Pacific</td>\n",
       "      <td>[3.5]</td>\n",
       "      <td>[Kind and knowledgeable staff., Awful customer...</td>\n",
       "      <td>[We had a terrible start to our 7.15am flight ...</td>\n",
       "    </tr>\n",
       "    <tr>\n",
       "      <th>8</th>\n",
       "      <td>https://www.tripadvisor.com/Airline_Review-d87...</td>\n",
       "      <td>Air China</td>\n",
       "      <td>6,004 reviews</td>\n",
       "      <td>6004.0</td>\n",
       "      <td>China</td>\n",
       "      <td>[3.0]</td>\n",
       "      <td>[Great trip, decent food, great cabin crew, ME...</td>\n",
       "      <td>[The cabin crew was very sweet and caring. I f...</td>\n",
       "    </tr>\n",
       "    <tr>\n",
       "      <th>9</th>\n",
       "      <td>https://www.tripadvisor.com/Airline_Review-d87...</td>\n",
       "      <td>South African Airways</td>\n",
       "      <td>4,883 reviews</td>\n",
       "      <td>4883.0</td>\n",
       "      <td>Africa</td>\n",
       "      <td>[3.5]</td>\n",
       "      <td>[Happy Customer’s, Avoid at all costs - zero c...</td>\n",
       "      <td>[I started writing this while in the plane. Th...</td>\n",
       "    </tr>\n",
       "  </tbody>\n",
       "</table>\n",
       "</div>"
      ],
      "text/plain": [
       "                                        airline_link           airline_name  \\\n",
       "0  https://www.tripadvisor.com/Airline_Review-d87...               Emirates   \n",
       "1  https://www.tripadvisor.com/Airline_Review-d10...         LATAM Airlines   \n",
       "2  https://www.tripadvisor.com/Airline_Review-d87...              Lufthansa   \n",
       "3  https://www.tripadvisor.com/Airline_Review-d87...             Air Canada   \n",
       "4  https://www.tripadvisor.com/Airline_Review-d87...               Aeroflot   \n",
       "5  https://www.tripadvisor.com/Airline_Review-d87...         Cathay Pacific   \n",
       "6  https://www.tripadvisor.com/Airline_Review-d87...          Copa Airlines   \n",
       "7  https://www.tripadvisor.com/Airline_Review-d87...       Virgin Australia   \n",
       "8  https://www.tripadvisor.com/Airline_Review-d87...              Air China   \n",
       "9  https://www.tripadvisor.com/Airline_Review-d87...  South African Airways   \n",
       "\n",
       "  airline_reviews  review_count               region Rating  \\\n",
       "0  64,134 reviews       64134.0          Middle East  [4.0]   \n",
       "1  40,963 reviews       40963.0        South America  [3.5]   \n",
       "2  40,715 reviews       40715.0               Europe  [3.5]   \n",
       "3  29,753 reviews       29753.0        North America  [3.0]   \n",
       "4  20,691 reviews       20691.0  Indian Subcontinent  [4.0]   \n",
       "5  16,642 reviews       16642.0                 Asia  [4.0]   \n",
       "6  13,288 reviews       13288.0      Central America  [3.5]   \n",
       "7  11,957 reviews       11957.0              Pacific  [3.5]   \n",
       "8   6,004 reviews        6004.0                China  [3.0]   \n",
       "9   4,883 reviews        4883.0               Africa  [3.5]   \n",
       "\n",
       "                                        Review_Title  \\\n",
       "0  [Top customer services!!, Horrible, well below...   \n",
       "1  [A customer care that mirrors that 80’s, Two d...   \n",
       "2  [Bad customer service and flight cancellation ...   \n",
       "3  [AWFUL, Worst flight experiences ever. Stay aw...   \n",
       "4  [Day 320: Repayment still did not work out, WO...   \n",
       "5  [Shocking experience...never again!, Excellent...   \n",
       "6  [Worst airline ever, Disappointed about my las...   \n",
       "7  [Kind and knowledgeable staff., Awful customer...   \n",
       "8  [Great trip, decent food, great cabin crew, ME...   \n",
       "9  [Happy Customer’s, Avoid at all costs - zero c...   \n",
       "\n",
       "                                         Review_Text  \n",
       "0  [Alma was so smiley, friendly and came with th...  \n",
       "1  [I have tried to change the flight 3 time. Ini...  \n",
       "2  [Flight was cancelled and pushed back 2 days. ...  \n",
       "3  [Signed in online, paid $50 for an additional ...  \n",
       "4  [To my great surprise, I received the free, wo...  \n",
       "5  [Absolutely shocking customer service...meals ...  \n",
       "6  [worst experience ever. I arrived to my destin...  \n",
       "7  [We had a terrible start to our 7.15am flight ...  \n",
       "8  [The cabin crew was very sweet and caring. I f...  \n",
       "9  [I started writing this while in the plane. Th...  "
      ]
     },
     "execution_count": 23,
     "metadata": {},
     "output_type": "execute_result"
    }
   ],
   "source": [
    "# Save Reviews to file\n",
    "\n",
    "# Reset index\n",
    "airlines_df=airlines_df.reset_index().drop(columns=['index'])\n",
    "\n",
    "# Convert to json\n",
    "reviews_json = airlines_df.to_dict(\"records\")\n",
    "\n",
    "# Serializing json\n",
    "reviews_json = json.dumps(reviews_json, indent=4)\n",
    " \n",
    "# Writing to file\n",
    "with open(\"airline_reviews.json\", \"w\") as outfile:\n",
    "    outfile.write(reviews_json)\n",
    "\n",
    "airlines_df"
   ]
  },
  {
   "cell_type": "markdown",
   "metadata": {},
   "source": [
    "After the reviews are extracted, the Rating, Review_Title, and Review_Text lists are appended to the airline dataframe. The reviews are saved as a json file titled \"airline_reviews.json\"."
   ]
  },
  {
   "cell_type": "code",
   "execution_count": null,
   "metadata": {},
   "outputs": [],
   "source": [
    "# Split reviews on | and return the last element.\n",
    "airlines_df[\"airline_\"] = airlines_df[\"airline_link\"].apply(lambda x: x.split(\"|\", 1)[-1] if \"| \" in x else x)"
   ]
  },
  {
   "cell_type": "markdown",
   "metadata": {},
   "source": [
    "*Plot Total Review Distributions*"
   ]
  },
  {
   "cell_type": "code",
   "execution_count": null,
   "metadata": {},
   "outputs": [
    {
     "data": {
      "application/vnd.plotly.v1+json": {
       "config": {
        "plotlyServerURL": "https://plot.ly"
       },
       "data": [
        {
         "alignmentgroup": "True",
         "bingroup": "x",
         "hovertemplate": "review_count=%{x}<br>count=%{y}<extra></extra>",
         "legendgroup": "",
         "marker": {
          "color": "pink",
          "line": {
           "color": "orchid",
           "width": 1.5
          },
          "pattern": {
           "shape": ""
          }
         },
         "name": "",
         "offsetgroup": "",
         "orientation": "v",
         "showlegend": false,
         "type": "histogram",
         "x": [
          64134,
          40963,
          40715,
          29753,
          20691,
          16642,
          13288,
          11957,
          6004,
          4883
         ],
         "xaxis": "x",
         "yaxis": "y"
        }
       ],
       "layout": {
        "barmode": "relative",
        "height": 400,
        "legend": {
         "tracegroupgap": 0
        },
        "margin": {
         "t": 60
        },
        "template": {
         "data": {
          "bar": [
           {
            "error_x": {
             "color": "#2a3f5f"
            },
            "error_y": {
             "color": "#2a3f5f"
            },
            "marker": {
             "line": {
              "color": "#E5ECF6",
              "width": 0.5
             },
             "pattern": {
              "fillmode": "overlay",
              "size": 10,
              "solidity": 0.2
             }
            },
            "type": "bar"
           }
          ],
          "barpolar": [
           {
            "marker": {
             "line": {
              "color": "#E5ECF6",
              "width": 0.5
             },
             "pattern": {
              "fillmode": "overlay",
              "size": 10,
              "solidity": 0.2
             }
            },
            "type": "barpolar"
           }
          ],
          "carpet": [
           {
            "aaxis": {
             "endlinecolor": "#2a3f5f",
             "gridcolor": "white",
             "linecolor": "white",
             "minorgridcolor": "white",
             "startlinecolor": "#2a3f5f"
            },
            "baxis": {
             "endlinecolor": "#2a3f5f",
             "gridcolor": "white",
             "linecolor": "white",
             "minorgridcolor": "white",
             "startlinecolor": "#2a3f5f"
            },
            "type": "carpet"
           }
          ],
          "choropleth": [
           {
            "colorbar": {
             "outlinewidth": 0,
             "ticks": ""
            },
            "type": "choropleth"
           }
          ],
          "contour": [
           {
            "colorbar": {
             "outlinewidth": 0,
             "ticks": ""
            },
            "colorscale": [
             [
              0,
              "#0d0887"
             ],
             [
              0.1111111111111111,
              "#46039f"
             ],
             [
              0.2222222222222222,
              "#7201a8"
             ],
             [
              0.3333333333333333,
              "#9c179e"
             ],
             [
              0.4444444444444444,
              "#bd3786"
             ],
             [
              0.5555555555555556,
              "#d8576b"
             ],
             [
              0.6666666666666666,
              "#ed7953"
             ],
             [
              0.7777777777777778,
              "#fb9f3a"
             ],
             [
              0.8888888888888888,
              "#fdca26"
             ],
             [
              1,
              "#f0f921"
             ]
            ],
            "type": "contour"
           }
          ],
          "contourcarpet": [
           {
            "colorbar": {
             "outlinewidth": 0,
             "ticks": ""
            },
            "type": "contourcarpet"
           }
          ],
          "heatmap": [
           {
            "colorbar": {
             "outlinewidth": 0,
             "ticks": ""
            },
            "colorscale": [
             [
              0,
              "#0d0887"
             ],
             [
              0.1111111111111111,
              "#46039f"
             ],
             [
              0.2222222222222222,
              "#7201a8"
             ],
             [
              0.3333333333333333,
              "#9c179e"
             ],
             [
              0.4444444444444444,
              "#bd3786"
             ],
             [
              0.5555555555555556,
              "#d8576b"
             ],
             [
              0.6666666666666666,
              "#ed7953"
             ],
             [
              0.7777777777777778,
              "#fb9f3a"
             ],
             [
              0.8888888888888888,
              "#fdca26"
             ],
             [
              1,
              "#f0f921"
             ]
            ],
            "type": "heatmap"
           }
          ],
          "heatmapgl": [
           {
            "colorbar": {
             "outlinewidth": 0,
             "ticks": ""
            },
            "colorscale": [
             [
              0,
              "#0d0887"
             ],
             [
              0.1111111111111111,
              "#46039f"
             ],
             [
              0.2222222222222222,
              "#7201a8"
             ],
             [
              0.3333333333333333,
              "#9c179e"
             ],
             [
              0.4444444444444444,
              "#bd3786"
             ],
             [
              0.5555555555555556,
              "#d8576b"
             ],
             [
              0.6666666666666666,
              "#ed7953"
             ],
             [
              0.7777777777777778,
              "#fb9f3a"
             ],
             [
              0.8888888888888888,
              "#fdca26"
             ],
             [
              1,
              "#f0f921"
             ]
            ],
            "type": "heatmapgl"
           }
          ],
          "histogram": [
           {
            "marker": {
             "pattern": {
              "fillmode": "overlay",
              "size": 10,
              "solidity": 0.2
             }
            },
            "type": "histogram"
           }
          ],
          "histogram2d": [
           {
            "colorbar": {
             "outlinewidth": 0,
             "ticks": ""
            },
            "colorscale": [
             [
              0,
              "#0d0887"
             ],
             [
              0.1111111111111111,
              "#46039f"
             ],
             [
              0.2222222222222222,
              "#7201a8"
             ],
             [
              0.3333333333333333,
              "#9c179e"
             ],
             [
              0.4444444444444444,
              "#bd3786"
             ],
             [
              0.5555555555555556,
              "#d8576b"
             ],
             [
              0.6666666666666666,
              "#ed7953"
             ],
             [
              0.7777777777777778,
              "#fb9f3a"
             ],
             [
              0.8888888888888888,
              "#fdca26"
             ],
             [
              1,
              "#f0f921"
             ]
            ],
            "type": "histogram2d"
           }
          ],
          "histogram2dcontour": [
           {
            "colorbar": {
             "outlinewidth": 0,
             "ticks": ""
            },
            "colorscale": [
             [
              0,
              "#0d0887"
             ],
             [
              0.1111111111111111,
              "#46039f"
             ],
             [
              0.2222222222222222,
              "#7201a8"
             ],
             [
              0.3333333333333333,
              "#9c179e"
             ],
             [
              0.4444444444444444,
              "#bd3786"
             ],
             [
              0.5555555555555556,
              "#d8576b"
             ],
             [
              0.6666666666666666,
              "#ed7953"
             ],
             [
              0.7777777777777778,
              "#fb9f3a"
             ],
             [
              0.8888888888888888,
              "#fdca26"
             ],
             [
              1,
              "#f0f921"
             ]
            ],
            "type": "histogram2dcontour"
           }
          ],
          "mesh3d": [
           {
            "colorbar": {
             "outlinewidth": 0,
             "ticks": ""
            },
            "type": "mesh3d"
           }
          ],
          "parcoords": [
           {
            "line": {
             "colorbar": {
              "outlinewidth": 0,
              "ticks": ""
             }
            },
            "type": "parcoords"
           }
          ],
          "pie": [
           {
            "automargin": true,
            "type": "pie"
           }
          ],
          "scatter": [
           {
            "fillpattern": {
             "fillmode": "overlay",
             "size": 10,
             "solidity": 0.2
            },
            "type": "scatter"
           }
          ],
          "scatter3d": [
           {
            "line": {
             "colorbar": {
              "outlinewidth": 0,
              "ticks": ""
             }
            },
            "marker": {
             "colorbar": {
              "outlinewidth": 0,
              "ticks": ""
             }
            },
            "type": "scatter3d"
           }
          ],
          "scattercarpet": [
           {
            "marker": {
             "colorbar": {
              "outlinewidth": 0,
              "ticks": ""
             }
            },
            "type": "scattercarpet"
           }
          ],
          "scattergeo": [
           {
            "marker": {
             "colorbar": {
              "outlinewidth": 0,
              "ticks": ""
             }
            },
            "type": "scattergeo"
           }
          ],
          "scattergl": [
           {
            "marker": {
             "colorbar": {
              "outlinewidth": 0,
              "ticks": ""
             }
            },
            "type": "scattergl"
           }
          ],
          "scattermapbox": [
           {
            "marker": {
             "colorbar": {
              "outlinewidth": 0,
              "ticks": ""
             }
            },
            "type": "scattermapbox"
           }
          ],
          "scatterpolar": [
           {
            "marker": {
             "colorbar": {
              "outlinewidth": 0,
              "ticks": ""
             }
            },
            "type": "scatterpolar"
           }
          ],
          "scatterpolargl": [
           {
            "marker": {
             "colorbar": {
              "outlinewidth": 0,
              "ticks": ""
             }
            },
            "type": "scatterpolargl"
           }
          ],
          "scatterternary": [
           {
            "marker": {
             "colorbar": {
              "outlinewidth": 0,
              "ticks": ""
             }
            },
            "type": "scatterternary"
           }
          ],
          "surface": [
           {
            "colorbar": {
             "outlinewidth": 0,
             "ticks": ""
            },
            "colorscale": [
             [
              0,
              "#0d0887"
             ],
             [
              0.1111111111111111,
              "#46039f"
             ],
             [
              0.2222222222222222,
              "#7201a8"
             ],
             [
              0.3333333333333333,
              "#9c179e"
             ],
             [
              0.4444444444444444,
              "#bd3786"
             ],
             [
              0.5555555555555556,
              "#d8576b"
             ],
             [
              0.6666666666666666,
              "#ed7953"
             ],
             [
              0.7777777777777778,
              "#fb9f3a"
             ],
             [
              0.8888888888888888,
              "#fdca26"
             ],
             [
              1,
              "#f0f921"
             ]
            ],
            "type": "surface"
           }
          ],
          "table": [
           {
            "cells": {
             "fill": {
              "color": "#EBF0F8"
             },
             "line": {
              "color": "white"
             }
            },
            "header": {
             "fill": {
              "color": "#C8D4E3"
             },
             "line": {
              "color": "white"
             }
            },
            "type": "table"
           }
          ]
         },
         "layout": {
          "annotationdefaults": {
           "arrowcolor": "#2a3f5f",
           "arrowhead": 0,
           "arrowwidth": 1
          },
          "autotypenumbers": "strict",
          "coloraxis": {
           "colorbar": {
            "outlinewidth": 0,
            "ticks": ""
           }
          },
          "colorscale": {
           "diverging": [
            [
             0,
             "#8e0152"
            ],
            [
             0.1,
             "#c51b7d"
            ],
            [
             0.2,
             "#de77ae"
            ],
            [
             0.3,
             "#f1b6da"
            ],
            [
             0.4,
             "#fde0ef"
            ],
            [
             0.5,
             "#f7f7f7"
            ],
            [
             0.6,
             "#e6f5d0"
            ],
            [
             0.7,
             "#b8e186"
            ],
            [
             0.8,
             "#7fbc41"
            ],
            [
             0.9,
             "#4d9221"
            ],
            [
             1,
             "#276419"
            ]
           ],
           "sequential": [
            [
             0,
             "#0d0887"
            ],
            [
             0.1111111111111111,
             "#46039f"
            ],
            [
             0.2222222222222222,
             "#7201a8"
            ],
            [
             0.3333333333333333,
             "#9c179e"
            ],
            [
             0.4444444444444444,
             "#bd3786"
            ],
            [
             0.5555555555555556,
             "#d8576b"
            ],
            [
             0.6666666666666666,
             "#ed7953"
            ],
            [
             0.7777777777777778,
             "#fb9f3a"
            ],
            [
             0.8888888888888888,
             "#fdca26"
            ],
            [
             1,
             "#f0f921"
            ]
           ],
           "sequentialminus": [
            [
             0,
             "#0d0887"
            ],
            [
             0.1111111111111111,
             "#46039f"
            ],
            [
             0.2222222222222222,
             "#7201a8"
            ],
            [
             0.3333333333333333,
             "#9c179e"
            ],
            [
             0.4444444444444444,
             "#bd3786"
            ],
            [
             0.5555555555555556,
             "#d8576b"
            ],
            [
             0.6666666666666666,
             "#ed7953"
            ],
            [
             0.7777777777777778,
             "#fb9f3a"
            ],
            [
             0.8888888888888888,
             "#fdca26"
            ],
            [
             1,
             "#f0f921"
            ]
           ]
          },
          "colorway": [
           "#636efa",
           "#EF553B",
           "#00cc96",
           "#ab63fa",
           "#FFA15A",
           "#19d3f3",
           "#FF6692",
           "#B6E880",
           "#FF97FF",
           "#FECB52"
          ],
          "font": {
           "color": "#2a3f5f"
          },
          "geo": {
           "bgcolor": "white",
           "lakecolor": "white",
           "landcolor": "#E5ECF6",
           "showlakes": true,
           "showland": true,
           "subunitcolor": "white"
          },
          "hoverlabel": {
           "align": "left"
          },
          "hovermode": "closest",
          "mapbox": {
           "style": "light"
          },
          "paper_bgcolor": "white",
          "plot_bgcolor": "#E5ECF6",
          "polar": {
           "angularaxis": {
            "gridcolor": "white",
            "linecolor": "white",
            "ticks": ""
           },
           "bgcolor": "#E5ECF6",
           "radialaxis": {
            "gridcolor": "white",
            "linecolor": "white",
            "ticks": ""
           }
          },
          "scene": {
           "xaxis": {
            "backgroundcolor": "#E5ECF6",
            "gridcolor": "white",
            "gridwidth": 2,
            "linecolor": "white",
            "showbackground": true,
            "ticks": "",
            "zerolinecolor": "white"
           },
           "yaxis": {
            "backgroundcolor": "#E5ECF6",
            "gridcolor": "white",
            "gridwidth": 2,
            "linecolor": "white",
            "showbackground": true,
            "ticks": "",
            "zerolinecolor": "white"
           },
           "zaxis": {
            "backgroundcolor": "#E5ECF6",
            "gridcolor": "white",
            "gridwidth": 2,
            "linecolor": "white",
            "showbackground": true,
            "ticks": "",
            "zerolinecolor": "white"
           }
          },
          "shapedefaults": {
           "line": {
            "color": "#2a3f5f"
           }
          },
          "ternary": {
           "aaxis": {
            "gridcolor": "white",
            "linecolor": "white",
            "ticks": ""
           },
           "baxis": {
            "gridcolor": "white",
            "linecolor": "white",
            "ticks": ""
           },
           "bgcolor": "#E5ECF6",
           "caxis": {
            "gridcolor": "white",
            "linecolor": "white",
            "ticks": ""
           }
          },
          "title": {
           "x": 0.05
          },
          "xaxis": {
           "automargin": true,
           "gridcolor": "white",
           "linecolor": "white",
           "ticks": "",
           "title": {
            "standoff": 15
           },
           "zerolinecolor": "white",
           "zerolinewidth": 2
          },
          "yaxis": {
           "automargin": true,
           "gridcolor": "white",
           "linecolor": "white",
           "ticks": "",
           "title": {
            "standoff": 15
           },
           "zerolinecolor": "white",
           "zerolinewidth": 2
          }
         }
        },
        "title": {
         "text": "Airline review total distribution"
        },
        "width": 800,
        "xaxis": {
         "anchor": "y",
         "domain": [
          0,
          1
         ],
         "title": {
          "text": "review_count"
         }
        },
        "yaxis": {
         "anchor": "x",
         "domain": [
          0,
          1
         ],
         "title": {
          "text": "count"
         }
        }
       }
      }
     },
     "metadata": {},
     "output_type": "display_data"
    }
   ],
   "source": [
    "# Seaborn plot\n",
    "\n",
    "color = sns.color_palette()\n",
    "\n",
    "fig = px.histogram(airlines_df, x=\"review_count\",  width=800, height=400)\n",
    "fig.update_traces(marker_color=\"pink\",marker_line_color='orchid',\n",
    "                  marker_line_width=1.5)\n",
    "fig.update_layout(title_text='Airline review total distribution')\n",
    "fig.show()"
   ]
  },
  {
   "cell_type": "markdown",
   "metadata": {},
   "source": [
    "### Descriptive Statistics"
   ]
  },
  {
   "cell_type": "code",
   "execution_count": null,
   "metadata": {},
   "outputs": [],
   "source": [
    "punctuation = set(punctuation)      # punctuation\n",
    "tw_punct = punctuation - {\"#\"}\n",
    "\n",
    "sw = stopwords.words(\"english\")     # stopwords and null removal\n",
    "sw = sw + ['nan']\n",
    "\n",
    "# Two useful regex\n",
    "whitespace_pattern = re.compile(r\"\\s+\")\n",
    "hashtag_pattern = re.compile(r\"^#[0-9a-zA-Z]+\")\n",
    "\n",
    "# Function for descriptive statistics\n",
    "def descriptive_stats(tokens, num_tokens = 5, verbose=True) :\n",
    "    \"\"\"\n",
    "        Given a list of tokens, print number of tokens, number of unique tokens, \n",
    "        number of characters, lexical diversity, and num_tokens most common\n",
    "        tokens. Returns a list of descriptive statistics\n",
    "    \"\"\"\n",
    "\n",
    "    num_tokens = len(tokens)\n",
    "    num_unique_tokens = len(set(tokens))\n",
    "    lexical_diversity = num_unique_tokens/num_tokens\n",
    "    num_characters = sum(len(token) for token in tokens)\n",
    "    \n",
    "    if verbose :        \n",
    "        print(f\"There are {num_tokens} tokens in the data.\")\n",
    "        print(f\"There are {num_unique_tokens} unique tokens in the data.\")\n",
    "        print(f\"There are {num_characters} characters in the data.\")\n",
    "        print(f\"The lexical diversity is {lexical_diversity:.3f} in the data.\")\n",
    "    \n",
    "    return([num_tokens, num_unique_tokens,\n",
    "            lexical_diversity,\n",
    "            num_characters])    \n",
    "\n",
    "# Function to remove stop words\n",
    "\n",
    "def remove_stop(tokens) :\n",
    "    return[t for t in tokens if t not in sw]\n",
    "\n",
    "# Function to remove punctuation\n",
    " \n",
    "def remove_punctuation(text, punct_set=tw_punct) : \n",
    "    return(\"\".join([ch for ch in text if ch not in punct_set]))\n",
    "\n",
    "# Function to tokenize text\n",
    "\n",
    "def tokenize(text) : \n",
    "    \"\"\" Splitting on whitespace rather than the book's tokenize function. That \n",
    "        function will drop tokens like '#hashtag' or '2A', which we need for Twitter. \"\"\"\n",
    "    \n",
    "    return([item.lower() for item in whitespace_pattern.split(text)])\n",
    "    \n",
    "# Function to prepare pipline with necessary functions\n",
    "\n",
    "def prepare(text, pipeline) : \n",
    "    tokens = str(text)\n",
    "    \n",
    "    for transform in pipeline : \n",
    "        tokens = transform(tokens)\n",
    "        \n",
    "    return(tokens)\n",
    "\n",
    "# Construct pipeline using methods above\n",
    "\n",
    "full_pipeline = [str.lower, remove_punctuation, tokenize, remove_stop]\n"
   ]
  },
  {
   "cell_type": "markdown",
   "metadata": {},
   "source": [
    "The functions above handle a variety of data preparation steps:\n",
    "\n",
    "- remove_stop: removes stop words in a given text\n",
    "\n",
    "- remove_punctuation: utilizes the string.punctuation library to remove unwanted punctuation that may be present in review texts\n",
    "\n",
    "- tokenize: employs a whitespace pattern capable of removing a variety of white space elements in a text.\n",
    "\n",
    "- prepare: applies relevant data processing and cleaning steps to a given text using a designated pipeline\n",
    "\n",
    "The full_pipline variable aggregates all of the necessary data handling steps. It is used with the apply() method below to create \"title_tokens\" and \"summary_tokens\"."
   ]
  },
  {
   "cell_type": "code",
   "execution_count": null,
   "metadata": {},
   "outputs": [],
   "source": [
    "# Create tokens for review titles and summaries\n",
    "\n",
    "airlines_df['title_tokens'] = airlines_df['Review_Title'].apply(prepare, pipeline=full_pipeline)\n",
    "airlines_df['summary_tokens'] = airlines_df['Review_Text'].apply(prepare, pipeline=full_pipeline)"
   ]
  },
  {
   "cell_type": "code",
   "execution_count": 30,
   "metadata": {},
   "outputs": [
    {
     "name": "stdout",
     "output_type": "stream",
     "text": [
      "Emirates\n",
      "There are 365 tokens in the data.\n",
      "There are 201 unique tokens in the data.\n",
      "There are 2462 characters in the data.\n",
      "The lexical diversity is 0.551 in the data.\n",
      "[365, 201, 0.5506849315068493, 2462]\n",
      "\n",
      "\n",
      "LATAM Airlines\n",
      "There are 370 tokens in the data.\n",
      "There are 212 unique tokens in the data.\n",
      "There are 2385 characters in the data.\n",
      "The lexical diversity is 0.573 in the data.\n",
      "[370, 212, 0.572972972972973, 2385]\n",
      "\n",
      "\n",
      "Lufthansa\n",
      "There are 424 tokens in the data.\n",
      "There are 254 unique tokens in the data.\n",
      "There are 2791 characters in the data.\n",
      "The lexical diversity is 0.599 in the data.\n",
      "[424, 254, 0.5990566037735849, 2791]\n",
      "\n",
      "\n"
     ]
    }
   ],
   "source": [
    "# Call descriptive statistics functions\n",
    "\n",
    "for i in range(10):\n",
    "    print(airlines_df[\"airline_name\"][i])\n",
    "    print(descriptive_stats(airlines_df[\"title_tokens\"][i]))\n",
    "    print(\"\\n\")\n"
   ]
  },
  {
   "cell_type": "code",
   "execution_count": null,
   "metadata": {},
   "outputs": [],
   "source": [
    "# Function for Word lemmatization\n",
    "\n",
    "def word_lemmatizer(text):\n",
    "    lem_text = [WordNetLemmatizer().lemmatize(i) for i in text]\n",
    "    return lem_text\n",
    "\n",
    "# Apply lemmatization\n",
    "\n",
    "airlines_df['title_lemma'] = airlines_df['title_tokens'].apply(lambda x: word_lemmatizer(x))\n",
    "airlines_df['summary_lemma'] = airlines_df['summary_tokens'].apply(lambda x: word_lemmatizer(x))\n",
    "\n",
    "airlines_df.head()"
   ]
  }
 ],
 "metadata": {
  "kernelspec": {
   "display_name": "ADS500B",
   "language": "python",
   "name": "python3"
  },
  "language_info": {
   "codemirror_mode": {
    "name": "ipython",
    "version": 3
   },
   "file_extension": ".py",
   "mimetype": "text/x-python",
   "name": "python",
   "nbconvert_exporter": "python",
   "pygments_lexer": "ipython3",
   "version": "3.10.4"
  },
  "orig_nbformat": 4
 },
 "nbformat": 4,
 "nbformat_minor": 2
}
